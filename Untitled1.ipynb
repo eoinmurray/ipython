{
 "metadata": {
  "name": "",
  "signature": "sha256:e3f14aa4d8f6707b07f9d7e48a31a19fd44b27490ecb7b7020531e366735a159"
 },
 "nbformat": 3,
 "nbformat_minor": 0,
 "worksheets": []
}